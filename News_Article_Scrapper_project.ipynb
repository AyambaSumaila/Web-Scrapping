{
  "nbformat": 4,
  "nbformat_minor": 0,
  "metadata": {
    "colab": {
      "provenance": [],
      "authorship_tag": "ABX9TyMsbtB5rvXlglEl9aQ+KoO2",
      "include_colab_link": true
    },
    "kernelspec": {
      "name": "python3",
      "display_name": "Python 3"
    },
    "language_info": {
      "name": "python"
    }
  },
  "cells": [
    {
      "cell_type": "markdown",
      "metadata": {
        "id": "view-in-github",
        "colab_type": "text"
      },
      "source": [
        "<a href=\"https://colab.research.google.com/github/AyambaSumaila/Web-Scrapping/blob/main/News_Article_Scrapper_project.ipynb\" target=\"_parent\"><img src=\"https://colab.research.google.com/assets/colab-badge.svg\" alt=\"Open In Colab\"/></a>"
      ]
    },
    {
      "cell_type": "markdown",
      "source": [
        "# In this project I would be scrapping News Articles from the Gurdian News Website\n"
      ],
      "metadata": {
        "id": "yGJyFevuFqlD"
      }
    },
    {
      "cell_type": "code",
      "source": [
        "pip install requests"
      ],
      "metadata": {
        "colab": {
          "base_uri": "https://localhost:8080/"
        },
        "id": "vAIdmJrNFphr",
        "outputId": "bf9f50be-ff84-47eb-85be-281ec792cfc6"
      },
      "execution_count": null,
      "outputs": [
        {
          "output_type": "stream",
          "name": "stdout",
          "text": [
            "Requirement already satisfied: requests in /usr/local/lib/python3.10/dist-packages (2.31.0)\n",
            "Requirement already satisfied: charset-normalizer<4,>=2 in /usr/local/lib/python3.10/dist-packages (from requests) (3.3.2)\n",
            "Requirement already satisfied: idna<4,>=2.5 in /usr/local/lib/python3.10/dist-packages (from requests) (3.6)\n",
            "Requirement already satisfied: urllib3<3,>=1.21.1 in /usr/local/lib/python3.10/dist-packages (from requests) (2.0.7)\n",
            "Requirement already satisfied: certifi>=2017.4.17 in /usr/local/lib/python3.10/dist-packages (from requests) (2024.2.2)\n"
          ]
        }
      ]
    },
    {
      "cell_type": "code",
      "execution_count": null,
      "metadata": {
        "colab": {
          "base_uri": "https://localhost:8080/"
        },
        "id": "TVqsNbpKiGZy",
        "outputId": "75be0a94-afe2-4bbe-b3c0-9377f0e9a569"
      },
      "outputs": [
        {
          "output_type": "stream",
          "name": "stdout",
          "text": [
            "Requirement already satisfied: beautifulsoup4 in /usr/local/lib/python3.10/dist-packages (4.12.3)\n",
            "Requirement already satisfied: soupsieve>1.2 in /usr/local/lib/python3.10/dist-packages (from beautifulsoup4) (2.5)\n"
          ]
        }
      ],
      "source": [
        "pip install beautifulsoup4\n"
      ]
    },
    {
      "cell_type": "markdown",
      "source": [
        "# Get your API_KEY from the\n",
        "# Guardian News website\n"
      ],
      "metadata": {
        "id": "n-_fqUUjGjav"
      }
    },
    {
      "cell_type": "markdown",
      "source": [
        "# For security purpose, you need to keep your API_KEY secret"
      ],
      "metadata": {
        "id": "GYBrHRP5BWP8"
      }
    },
    {
      "cell_type": "code",
      "source": [],
      "metadata": {
        "id": "uW8RwHkBBV1l"
      },
      "execution_count": null,
      "outputs": []
    },
    {
      "cell_type": "code",
      "source": [
        "# Note: you can not use this api_key\n",
        "API_KEY=\"__df76c-abaf-4926-98dd-7983671cc3c6\""
      ],
      "metadata": {
        "id": "6KA7aTtliHKO"
      },
      "execution_count": null,
      "outputs": []
    },
    {
      "cell_type": "markdown",
      "source": [
        "# Import neccessary libraries"
      ],
      "metadata": {
        "id": "x7_UgGObG3xG"
      }
    },
    {
      "cell_type": "code",
      "source": [
        "import requests\n",
        "import  bs4"
      ],
      "metadata": {
        "id": "M4ZzSr3OiHNY"
      },
      "execution_count": null,
      "outputs": []
    },
    {
      "cell_type": "code",
      "source": [
        "# Get your url ready\n",
        "myurl=\"https://content.guardianapis.com/technology/artificialintelligenceai?&api-key=01dd6b39-66d5-4ed8-8335-9dd17fe41a3f&type=article&page=1\""
      ],
      "metadata": {
        "id": "SvIUxb0ViHQn"
      },
      "execution_count": null,
      "outputs": []
    },
    {
      "cell_type": "code",
      "source": [
        "# Get response from your url\n",
        "response=requests.get(myurl)"
      ],
      "metadata": {
        "id": "5gUQxnjTiHSU"
      },
      "execution_count": null,
      "outputs": []
    },
    {
      "cell_type": "code",
      "source": [
        "print(response)"
      ],
      "metadata": {
        "colab": {
          "base_uri": "https://localhost:8080/"
        },
        "id": "4pzrsFUdiHVB",
        "outputId": "0d710dc3-e3a0-49ea-c413-0ad5157fd6fa"
      },
      "execution_count": null,
      "outputs": [
        {
          "output_type": "stream",
          "name": "stdout",
          "text": [
            "<Response [200]>\n"
          ]
        }
      ]
    },
    {
      "cell_type": "code",
      "source": [
        "x=response.json()"
      ],
      "metadata": {
        "id": "0v28VlNDiHXH"
      },
      "execution_count": null,
      "outputs": []
    },
    {
      "cell_type": "code",
      "source": [
        "print(x)"
      ],
      "metadata": {
        "colab": {
          "base_uri": "https://localhost:8080/"
        },
        "id": "edhTlJv5iHY7",
        "outputId": "518fa982-505c-4934-94fe-e3450fc2ba37"
      },
      "execution_count": null,
      "outputs": [
        {
          "output_type": "stream",
          "name": "stdout",
          "text": [
            "{'response': {'status': 'ok', 'userTier': 'developer', 'total': 2157, 'startIndex': 1, 'pageSize': 10, 'currentPage': 1, 'pages': 216, 'orderBy': 'newest', 'tag': {'id': 'technology/artificialintelligenceai', 'type': 'keyword', 'sectionId': 'technology', 'sectionName': 'Technology', 'webTitle': 'Artificial intelligence (AI)', 'webUrl': 'https://www.theguardian.com/technology/artificialintelligenceai', 'apiUrl': 'https://content.guardianapis.com/technology/artificialintelligenceai'}, 'results': [{'id': 'games/2024/mar/23/game-developer-conference-layoffs-ai-support', 'type': 'article', 'sectionId': 'games', 'sectionName': 'Games', 'webPublicationDate': '2024-03-23T13:00:22Z', 'webTitle': 'Layoffs and AI sour annual Game Developers Conference: ‘The vibe is rancid’', 'webUrl': 'https://www.theguardian.com/games/2024/mar/23/game-developer-conference-layoffs-ai-support', 'apiUrl': 'https://content.guardianapis.com/games/2024/mar/23/game-developer-conference-layoffs-ai-support', 'isHosted': False, 'pillarId': 'pillar/arts', 'pillarName': 'Arts'}, {'id': 'books/2024/mar/23/code-dependent-by-madhumita-murgia-review-understanding-the-human-impacts-of-ai', 'type': 'article', 'sectionId': 'books', 'sectionName': 'Books', 'webPublicationDate': '2024-03-23T07:30:13Z', 'webTitle': 'Code Dependent by Madhumita Murgia review – understanding the human impacts of AI', 'webUrl': 'https://www.theguardian.com/books/2024/mar/23/code-dependent-by-madhumita-murgia-review-understanding-the-human-impacts-of-ai', 'apiUrl': 'https://content.guardianapis.com/books/2024/mar/23/code-dependent-by-madhumita-murgia-review-understanding-the-human-impacts-of-ai', 'isHosted': False, 'pillarId': 'pillar/arts', 'pillarName': 'Arts'}, {'id': 'world/2024/mar/21/danish-man-found-guilty-of-fraudulently-profiting-from-music-streaming-royalties', 'type': 'article', 'sectionId': 'world', 'sectionName': 'World news', 'webPublicationDate': '2024-03-21T16:14:13Z', 'webTitle': 'Danish man found guilty of fraudulently profiting from music streaming royalties', 'webUrl': 'https://www.theguardian.com/world/2024/mar/21/danish-man-found-guilty-of-fraudulently-profiting-from-music-streaming-royalties', 'apiUrl': 'https://content.guardianapis.com/world/2024/mar/21/danish-man-found-guilty-of-fraudulently-profiting-from-music-streaming-royalties', 'isHosted': False, 'pillarId': 'pillar/news', 'pillarName': 'News'}, {'id': 'science/2024/mar/20/medics-design-ai-tool-to-predict-side-effects-in-breast-cancer-patients', 'type': 'article', 'sectionId': 'science', 'sectionName': 'Science', 'webPublicationDate': '2024-03-20T23:01:13Z', 'webTitle': 'Medics design AI tool to predict side-effects in breast cancer patients', 'webUrl': 'https://www.theguardian.com/science/2024/mar/20/medics-design-ai-tool-to-predict-side-effects-in-breast-cancer-patients', 'apiUrl': 'https://content.guardianapis.com/science/2024/mar/20/medics-design-ai-tool-to-predict-side-effects-in-breast-cancer-patients', 'isHosted': False, 'pillarId': 'pillar/news', 'pillarName': 'News'}, {'id': 'us-news/2024/mar/20/georgia-ai-ban-political-campaigns-deepfakes', 'type': 'article', 'sectionId': 'us-news', 'sectionName': 'US news', 'webPublicationDate': '2024-03-20T21:21:03Z', 'webTitle': 'Georgia lawmakers are using an AI deepfake video to try to ban political deepfakes', 'webUrl': 'https://www.theguardian.com/us-news/2024/mar/20/georgia-ai-ban-political-campaigns-deepfakes', 'apiUrl': 'https://content.guardianapis.com/us-news/2024/mar/20/georgia-ai-ban-political-campaigns-deepfakes', 'isHosted': False, 'pillarId': 'pillar/news', 'pillarName': 'News'}, {'id': 'business/2024/mar/20/mustafa-suleyman-the-new-head-of-microsoft-ai-with-concerns-about-his-trade', 'type': 'article', 'sectionId': 'business', 'sectionName': 'Business', 'webPublicationDate': '2024-03-20T19:19:08Z', 'webTitle': 'Mustafa Suleyman: the new head of Microsoft AI with concerns about his trade', 'webUrl': 'https://www.theguardian.com/business/2024/mar/20/mustafa-suleyman-the-new-head-of-microsoft-ai-with-concerns-about-his-trade', 'apiUrl': 'https://content.guardianapis.com/business/2024/mar/20/mustafa-suleyman-the-new-head-of-microsoft-ai-with-concerns-about-his-trade', 'isHosted': False, 'pillarId': 'pillar/news', 'pillarName': 'News'}, {'id': 'technology/2024/mar/20/google-fined-250m-euros-in-france-for-breaching-intellectual-property-rules', 'type': 'article', 'sectionId': 'technology', 'sectionName': 'Technology', 'webPublicationDate': '2024-03-20T11:21:53Z', 'webTitle': 'Google fined €250m in France for breaching intellectual property deal', 'webUrl': 'https://www.theguardian.com/technology/2024/mar/20/google-fined-250m-euros-in-france-for-breaching-intellectual-property-rules', 'apiUrl': 'https://content.guardianapis.com/technology/2024/mar/20/google-fined-250m-euros-in-france-for-breaching-intellectual-property-rules', 'isHosted': False, 'pillarId': 'pillar/news', 'pillarName': 'News'}, {'id': 'technology/2024/mar/20/microsoft-hires-deepmind-co-founder-ai-division-mustafa-suleyman', 'type': 'article', 'sectionId': 'technology', 'sectionName': 'Technology', 'webPublicationDate': '2024-03-20T08:04:12Z', 'webTitle': 'Microsoft hires DeepMind co-founder to lead new AI division', 'webUrl': 'https://www.theguardian.com/technology/2024/mar/20/microsoft-hires-deepmind-co-founder-ai-division-mustafa-suleyman', 'apiUrl': 'https://content.guardianapis.com/technology/2024/mar/20/microsoft-hires-deepmind-co-founder-ai-division-mustafa-suleyman', 'isHosted': False, 'pillarId': 'pillar/news', 'pillarName': 'News'}, {'id': 'society/2024/mar/19/technology-must-tackle-bias-in-medical-devices', 'type': 'article', 'sectionId': 'society', 'sectionName': 'Society', 'webPublicationDate': '2024-03-19T18:06:35Z', 'webTitle': 'Technology must tackle bias in medical devices | Letter', 'webUrl': 'https://www.theguardian.com/society/2024/mar/19/technology-must-tackle-bias-in-medical-devices', 'apiUrl': 'https://content.guardianapis.com/society/2024/mar/19/technology-must-tackle-bias-in-medical-devices', 'isHosted': False, 'pillarId': 'pillar/news', 'pillarName': 'News'}, {'id': 'business/2024/mar/19/nvidia-tech-ai-superchip-artificial-intelligence-humanoid-robots', 'type': 'article', 'sectionId': 'business', 'sectionName': 'Business', 'webPublicationDate': '2024-03-19T15:11:10Z', 'webTitle': 'Nvidia: what’s so good about the tech firm’s new AI superchip?', 'webUrl': 'https://www.theguardian.com/business/2024/mar/19/nvidia-tech-ai-superchip-artificial-intelligence-humanoid-robots', 'apiUrl': 'https://content.guardianapis.com/business/2024/mar/19/nvidia-tech-ai-superchip-artificial-intelligence-humanoid-robots', 'isHosted': False, 'pillarId': 'pillar/news', 'pillarName': 'News'}], 'leadContent': [{'id': 'technology/2024/mar/16/ai-racism-chatgpt-gemini-bias', 'type': 'article', 'sectionId': 'technology', 'sectionName': 'Technology', 'webPublicationDate': '2024-03-16T14:00:07Z', 'webTitle': 'As AI tools get smarter, they’re growing more covertly racist, experts find', 'webUrl': 'https://www.theguardian.com/technology/2024/mar/16/ai-racism-chatgpt-gemini-bias', 'apiUrl': 'https://content.guardianapis.com/technology/2024/mar/16/ai-racism-chatgpt-gemini-bias', 'tags': [], 'references': [], 'isHosted': False, 'pillarId': 'pillar/news', 'pillarName': 'News'}, {'id': 'technology/2024/mar/14/what-will-eu-proposed-regulation-ai-mean-consumers', 'type': 'article', 'sectionId': 'technology', 'sectionName': 'Technology', 'webPublicationDate': '2024-03-14T14:33:04Z', 'webTitle': 'What will the EU’s proposed act to regulate AI mean for consumers?', 'webUrl': 'https://www.theguardian.com/technology/2024/mar/14/what-will-eu-proposed-regulation-ai-mean-consumers', 'apiUrl': 'https://content.guardianapis.com/technology/2024/mar/14/what-will-eu-proposed-regulation-ai-mean-consumers', 'tags': [], 'references': [], 'isHosted': False, 'pillarId': 'pillar/news', 'pillarName': 'News'}, {'id': 'technology/2024/mar/10/warning-over-use-in-uk-of-unregulated-ai-chatbots-to-create-social-care-plans', 'type': 'article', 'sectionId': 'technology', 'sectionName': 'Technology', 'webPublicationDate': '2024-03-10T09:00:05Z', 'webTitle': 'Warning over use in UK of unregulated AI chatbots to create social care plans', 'webUrl': 'https://www.theguardian.com/technology/2024/mar/10/warning-over-use-in-uk-of-unregulated-ai-chatbots-to-create-social-care-plans', 'apiUrl': 'https://content.guardianapis.com/technology/2024/mar/10/warning-over-use-in-uk-of-unregulated-ai-chatbots-to-create-social-care-plans', 'tags': [], 'references': [], 'isHosted': False, 'pillarId': 'pillar/news', 'pillarName': 'News'}, {'id': 'technology/2024/mar/07/ai-climate-change-energy-disinformation-report', 'type': 'article', 'sectionId': 'technology', 'sectionName': 'Technology', 'webPublicationDate': '2024-03-07T12:00:39Z', 'webTitle': 'AI likely to increase energy use and accelerate climate misinformation – report', 'webUrl': 'https://www.theguardian.com/technology/2024/mar/07/ai-climate-change-energy-disinformation-report', 'apiUrl': 'https://content.guardianapis.com/technology/2024/mar/07/ai-climate-change-energy-disinformation-report', 'tags': [], 'references': [], 'isHosted': False, 'pillarId': 'pillar/news', 'pillarName': 'News'}, {'id': 'technology/2024/mar/06/chinese-google-engineer-arrested-stealing-ai-trade-secrets', 'type': 'article', 'sectionId': 'technology', 'sectionName': 'Technology', 'webPublicationDate': '2024-03-06T22:40:41Z', 'webTitle': 'Ex-Google engineer arrested for alleged theft of AI secrets for Chinese firms', 'webUrl': 'https://www.theguardian.com/technology/2024/mar/06/chinese-google-engineer-arrested-stealing-ai-trade-secrets', 'apiUrl': 'https://content.guardianapis.com/technology/2024/mar/06/chinese-google-engineer-arrested-stealing-ai-trade-secrets', 'tags': [], 'references': [], 'isHosted': False, 'pillarId': 'pillar/news', 'pillarName': 'News'}, {'id': 'technology/2024/mar/06/ai-interviews-job-applications', 'type': 'article', 'sectionId': 'technology', 'sectionName': 'Technology', 'webPublicationDate': '2024-03-06T12:00:38Z', 'webTitle': 'The job applicants shut out by AI: ‘The interviewer sounded like Siri’', 'webUrl': 'https://www.theguardian.com/technology/2024/mar/06/ai-interviews-job-applications', 'apiUrl': 'https://content.guardianapis.com/technology/2024/mar/06/ai-interviews-job-applications', 'tags': [], 'references': [], 'isHosted': False, 'pillarId': 'pillar/news', 'pillarName': 'News'}, {'id': 'technology/2024/feb/29/clothoff-deepfake-ai-pornography-app-names-linked-revealed', 'type': 'article', 'sectionId': 'technology', 'sectionName': 'Technology', 'webPublicationDate': '2024-02-29T19:28:17Z', 'webTitle': 'Revealed: the names linked to ClothOff, the deepfake pornography app ', 'webUrl': 'https://www.theguardian.com/technology/2024/feb/29/clothoff-deepfake-ai-pornography-app-names-linked-revealed', 'apiUrl': 'https://content.guardianapis.com/technology/2024/feb/29/clothoff-deepfake-ai-pornography-app-names-linked-revealed', 'tags': [], 'references': [], 'isHosted': False, 'pillarId': 'pillar/news', 'pillarName': 'News'}, {'id': 'technology/video/2024/feb/27/human-or-fake-how-ai-is-distorting-beauty-standards-video', 'type': 'video', 'sectionId': 'technology', 'sectionName': 'Technology', 'webPublicationDate': '2024-02-27T10:42:49Z', 'webTitle': 'Human or AI? The future of beauty standards – video', 'webUrl': 'https://www.theguardian.com/technology/video/2024/feb/27/human-or-fake-how-ai-is-distorting-beauty-standards-video', 'apiUrl': 'https://content.guardianapis.com/technology/video/2024/feb/27/human-or-fake-how-ai-is-distorting-beauty-standards-video', 'tags': [], 'references': [], 'isHosted': False, 'pillarId': 'pillar/news', 'pillarName': 'News'}, {'id': 'uk-news/2024/feb/25/uks-enemies-could-use-ai-deepfakes-to-try-to-rig-election-says-james-cleverly', 'type': 'article', 'sectionId': 'technology', 'sectionName': 'Technology', 'webPublicationDate': '2024-02-25T22:45:36Z', 'webTitle': 'UK’s enemies could use AI deepfakes to try to rig election, says James Cleverly', 'webUrl': 'https://www.theguardian.com/uk-news/2024/feb/25/uks-enemies-could-use-ai-deepfakes-to-try-to-rig-election-says-james-cleverly', 'apiUrl': 'https://content.guardianapis.com/uk-news/2024/feb/25/uks-enemies-could-use-ai-deepfakes-to-try-to-rig-election-says-james-cleverly', 'tags': [], 'references': [], 'isHosted': False, 'pillarId': 'pillar/news', 'pillarName': 'News'}, {'id': 'technology/2024/feb/25/alan-ayckbourn-was-ahead-of-the-curve-in-predictions-of-ai-created-tv-soaps', 'type': 'article', 'sectionId': 'technology', 'sectionName': 'Technology', 'webPublicationDate': '2024-02-25T18:47:28Z', 'webTitle': 'Alan Ayckbourn was ahead of the curve in predictions of AI-created TV soaps | Letters', 'webUrl': 'https://www.theguardian.com/technology/2024/feb/25/alan-ayckbourn-was-ahead-of-the-curve-in-predictions-of-ai-created-tv-soaps', 'apiUrl': 'https://content.guardianapis.com/technology/2024/feb/25/alan-ayckbourn-was-ahead-of-the-curve-in-predictions-of-ai-created-tv-soaps', 'tags': [], 'references': [], 'isHosted': False, 'pillarId': 'pillar/news', 'pillarName': 'News'}]}}\n"
          ]
        }
      ]
    },
    {
      "cell_type": "code",
      "source": [
        "myWebUrl=[item['webUrl'] for item in x['response']['results']]\n",
        "\n",
        "for url in myWebUrl:\n",
        "  print(url)\n",
        "  print(\"\\n\")\n"
      ],
      "metadata": {
        "colab": {
          "base_uri": "https://localhost:8080/"
        },
        "id": "OMM2A0WYiHbY",
        "outputId": "4a0d1df3-83cc-4932-d769-01455b81725e"
      },
      "execution_count": null,
      "outputs": [
        {
          "output_type": "stream",
          "name": "stdout",
          "text": [
            "https://www.theguardian.com/games/2024/mar/23/game-developer-conference-layoffs-ai-support\n",
            "\n",
            "\n",
            "https://www.theguardian.com/books/2024/mar/23/code-dependent-by-madhumita-murgia-review-understanding-the-human-impacts-of-ai\n",
            "\n",
            "\n",
            "https://www.theguardian.com/world/2024/mar/21/danish-man-found-guilty-of-fraudulently-profiting-from-music-streaming-royalties\n",
            "\n",
            "\n",
            "https://www.theguardian.com/science/2024/mar/20/medics-design-ai-tool-to-predict-side-effects-in-breast-cancer-patients\n",
            "\n",
            "\n",
            "https://www.theguardian.com/us-news/2024/mar/20/georgia-ai-ban-political-campaigns-deepfakes\n",
            "\n",
            "\n",
            "https://www.theguardian.com/business/2024/mar/20/mustafa-suleyman-the-new-head-of-microsoft-ai-with-concerns-about-his-trade\n",
            "\n",
            "\n",
            "https://www.theguardian.com/technology/2024/mar/20/google-fined-250m-euros-in-france-for-breaching-intellectual-property-rules\n",
            "\n",
            "\n",
            "https://www.theguardian.com/technology/2024/mar/20/microsoft-hires-deepmind-co-founder-ai-division-mustafa-suleyman\n",
            "\n",
            "\n",
            "https://www.theguardian.com/society/2024/mar/19/technology-must-tackle-bias-in-medical-devices\n",
            "\n",
            "\n",
            "https://www.theguardian.com/business/2024/mar/19/nvidia-tech-ai-superchip-artificial-intelligence-humanoid-robots\n",
            "\n",
            "\n"
          ]
        }
      ]
    },
    {
      "cell_type": "code",
      "source": [],
      "metadata": {
        "id": "-i5oaA98iIQ6"
      },
      "execution_count": null,
      "outputs": []
    }
  ]
}