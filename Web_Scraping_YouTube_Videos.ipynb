{
  "nbformat": 4,
  "nbformat_minor": 0,
  "metadata": {
    "colab": {
      "provenance": [],
      "toc_visible": true,
      "authorship_tag": "ABX9TyNt8Ygxmj2ActLPAm1X0jmJ",
      "include_colab_link": true
    },
    "kernelspec": {
      "name": "python3",
      "display_name": "Python 3"
    },
    "language_info": {
      "name": "python"
    }
  },
  "cells": [
    {
      "cell_type": "markdown",
      "metadata": {
        "id": "view-in-github",
        "colab_type": "text"
      },
      "source": [
        "<a href=\"https://colab.research.google.com/github/AyambaSumaila/Web-Scrapping/blob/main/Web_Scraping_YouTube_Videos.ipynb\" target=\"_parent\"><img src=\"https://colab.research.google.com/assets/colab-badge.svg\" alt=\"Open In Colab\"/></a>"
      ]
    },
    {
      "cell_type": "markdown",
      "source": [],
      "metadata": {
        "id": "gh21klsduyai"
      }
    },
    {
      "cell_type": "markdown",
      "source": [
        "#In this mini project, I will be writing Python scripts\n",
        "# That takes link of a youtube video\n",
        "# Then displays the:\n",
        "  ### Title of the video\n",
        "  ### Duration\n",
        "  ### Views\n",
        ""
      ],
      "metadata": {
        "id": "DOFpaRddsAbn"
      }
    },
    {
      "cell_type": "markdown",
      "source": [
        "#  Installations\n",
        "\n",
        "\n"
      ],
      "metadata": {
        "id": "5z1p9hsVvipF"
      }
    },
    {
      "cell_type": "code",
      "source": [
        "pip install pytube"
      ],
      "metadata": {
        "colab": {
          "base_uri": "https://localhost:8080/"
        },
        "id": "LiWvYYPOrpKS",
        "outputId": "116e79d8-3a1d-439e-afad-59645d96860c"
      },
      "execution_count": 1,
      "outputs": [
        {
          "output_type": "stream",
          "name": "stdout",
          "text": [
            "Collecting pytube\n",
            "  Downloading pytube-15.0.0-py3-none-any.whl (57 kB)\n",
            "\u001b[?25l     \u001b[90m━━━━━━━━━━━━━━━━━━━━━━━━━━━━━━━━━━━━━━━━\u001b[0m \u001b[32m0.0/57.6 kB\u001b[0m \u001b[31m?\u001b[0m eta \u001b[36m-:--:--\u001b[0m\r\u001b[2K     \u001b[90m━━━━━━━━━━━━━━━━━━━━━━━━━━━━━━━━━━━━━━━━\u001b[0m \u001b[32m57.6/57.6 kB\u001b[0m \u001b[31m2.2 MB/s\u001b[0m eta \u001b[36m0:00:00\u001b[0m\n",
            "\u001b[?25hInstalling collected packages: pytube\n",
            "Successfully installed pytube-15.0.0\n"
          ]
        }
      ]
    },
    {
      "cell_type": "markdown",
      "source": [
        "# Import youtube\n"
      ],
      "metadata": {
        "id": "OzyIunZUr7Eh"
      }
    },
    {
      "cell_type": "code",
      "source": [
        "from pytube import YouTube"
      ],
      "metadata": {
        "id": "qF_T1L0GrpHO"
      },
      "execution_count": 2,
      "outputs": []
    },
    {
      "cell_type": "markdown",
      "source": [
        "#  step is to get the link of the youtube video"
      ],
      "metadata": {
        "id": "4X2DctfdsYs-"
      }
    },
    {
      "cell_type": "code",
      "source": [
        "myLink=input(\"Please enter link of the video:>\")\n",
        "\n",
        "myTube=YouTube(myLink)\n"
      ],
      "metadata": {
        "colab": {
          "base_uri": "https://localhost:8080/"
        },
        "id": "LKifwxYOrpFP",
        "outputId": "7cb480c7-7f0d-45a4-d77e-c7e4c96c2371"
      },
      "execution_count": 4,
      "outputs": [
        {
          "name": "stdout",
          "output_type": "stream",
          "text": [
            "Please enter link of the video:>https://www.youtube.com/watch?v=XCIBOl3FTKo&list=PLzMcBGfZo4-kBvY2DaxdSvoN_jGpzbw5V&index=2\n"
          ]
        }
      ]
    },
    {
      "cell_type": "markdown",
      "source": [
        "# Print the data that we need\n"
      ],
      "metadata": {
        "id": "Yw1PSHvQtB4T"
      }
    },
    {
      "cell_type": "code",
      "source": [
        "# To print title\n",
        "print(\"The Title of the video is :\", myTube.title)\n",
        "# To get number of views\n",
        "print(\"The number of Views are:\", myTube.views)\n",
        "# To get the length of video\n",
        "print(\"The Duration of the video is :\", myTube.length)\n",
        "# To get description\n",
        "print(\"The Description video is :\", myTube.description)\n",
        "# To get ratings\n",
        "print(\"The Ratings of the video :\", myTube.rating)\n"
      ],
      "metadata": {
        "colab": {
          "base_uri": "https://localhost:8080/"
        },
        "id": "gxFbF4FurpCP",
        "outputId": "fba65609-0ad7-437d-9450-c70790159f1e"
      },
      "execution_count": 6,
      "outputs": [
        {
          "output_type": "stream",
          "name": "stdout",
          "text": [
            "The Title of the video is : Mini Python Project Tutorial - Password Generator\n",
            "The number of Views are: 68348\n",
            "The Duration of the video is : 1107\n",
            "The Description video is : None\n",
            "The Ratings of the video : None\n"
          ]
        }
      ]
    },
    {
      "cell_type": "code",
      "source": [],
      "metadata": {
        "colab": {
          "base_uri": "https://localhost:8080/",
          "height": 36
        },
        "id": "WkV7DPy9rpAL",
        "outputId": "5d3f0c9d-b671-45b8-b371-f6e56bfbf437"
      },
      "execution_count": 7,
      "outputs": [
        {
          "output_type": "execute_result",
          "data": {
            "text/plain": [
              "'https://www.youtube.com/watch?v=XCIBOl3FTKo&list=PLzMcBGfZo4-kBvY2DaxdSvoN_jGpzbw5V&index=2'"
            ],
            "application/vnd.google.colaboratory.intrinsic+json": {
              "type": "string"
            }
          },
          "metadata": {},
          "execution_count": 7
        }
      ]
    },
    {
      "cell_type": "code",
      "source": [
        "myLink=input(\"Please enter link of the video:>\")\n",
        "\n",
        "myTube=YouTube(myLink)\n"
      ],
      "metadata": {
        "colab": {
          "base_uri": "https://localhost:8080/"
        },
        "id": "X4hWykcWro9b",
        "outputId": "ff66d172-dd4c-4752-9d79-9273ae697fac"
      },
      "execution_count": 8,
      "outputs": [
        {
          "name": "stdout",
          "output_type": "stream",
          "text": [
            "Please enter link of the video:>https://www.youtube.com/watch?v=2FbWhnTUebo\n"
          ]
        }
      ]
    },
    {
      "cell_type": "code",
      "source": [
        "# To print title\n",
        "print(\"The Title of the video is :\", myTube.title)\n",
        "# To get number of views\n",
        "print(\"The number of Views are:\", myTube.views)\n",
        "# To get the length of video\n",
        "print(\"The Duration of the video is :\", myTube.length)\n",
        "# To get description\n",
        "print(\"The Description video is :\", myTube.description)\n",
        "# To get ratings\n",
        "print(\"The Ratings of the video :\", myTube.rating)\n"
      ],
      "metadata": {
        "colab": {
          "base_uri": "https://localhost:8080/"
        },
        "id": "vOaJrphKro7S",
        "outputId": "e78829eb-e973-4c7d-c262-93c16576ff42"
      },
      "execution_count": 9,
      "outputs": [
        {
          "output_type": "stream",
          "name": "stdout",
          "text": [
            "The Title of the video is : JEE, NEET update: What students feel about exams not getting postponed\n",
            "The number of Views are: 24068\n",
            "The Duration of the video is : 142\n",
            "The Description video is : None\n",
            "The Ratings of the video : None\n"
          ]
        }
      ]
    },
    {
      "cell_type": "markdown",
      "source": [
        "# Download a video"
      ],
      "metadata": {
        "id": "qL9YmMztwbXH"
      }
    },
    {
      "cell_type": "code",
      "source": [
        "myVideo = myTube.streams.get_highest_resolution()\n",
        "myVideo.download()\n",
        "print(\"Download completed!!\")"
      ],
      "metadata": {
        "colab": {
          "base_uri": "https://localhost:8080/"
        },
        "id": "klLOxOrTro4i",
        "outputId": "e4abe046-dab9-4d25-a7a7-0bc2cdaa45ca"
      },
      "execution_count": 10,
      "outputs": [
        {
          "output_type": "stream",
          "name": "stdout",
          "text": [
            "Download completed!!\n"
          ]
        }
      ]
    },
    {
      "cell_type": "code",
      "source": [],
      "metadata": {
        "id": "t4wMuTXfro2z"
      },
      "execution_count": null,
      "outputs": []
    },
    {
      "cell_type": "code",
      "source": [],
      "metadata": {
        "id": "L8gG91qKrozp"
      },
      "execution_count": null,
      "outputs": []
    },
    {
      "cell_type": "code",
      "source": [],
      "metadata": {
        "id": "JtTpLO21royA"
      },
      "execution_count": null,
      "outputs": []
    },
    {
      "cell_type": "code",
      "source": [],
      "metadata": {
        "id": "nvd59TBSrou8"
      },
      "execution_count": null,
      "outputs": []
    },
    {
      "cell_type": "code",
      "source": [],
      "metadata": {
        "id": "AwfvmEWarotG"
      },
      "execution_count": null,
      "outputs": []
    },
    {
      "cell_type": "code",
      "source": [],
      "metadata": {
        "id": "b4mXRDMWroqg"
      },
      "execution_count": null,
      "outputs": []
    },
    {
      "cell_type": "code",
      "source": [],
      "metadata": {
        "id": "dCuLDLJqrooH"
      },
      "execution_count": null,
      "outputs": []
    },
    {
      "cell_type": "code",
      "execution_count": null,
      "metadata": {
        "id": "sXJPChcprZgD"
      },
      "outputs": [],
      "source": []
    }
  ]
}
